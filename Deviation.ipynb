{
 "cells": [
  {
   "cell_type": "code",
   "execution_count": 2,
   "metadata": {},
   "outputs": [
    {
     "name": "stdout",
     "output_type": "stream",
     "text": [
      "17.093208527885505\n"
     ]
    }
   ],
   "source": [
    "import math, csv\n",
    "with open('data.csv', newline='') as f:\n",
    "    reader=csv.reader(f)\n",
    "    file_data=list(reader)\n",
    "    data=file_data[0]\n",
    "#finding mean\n",
    "def mean(data):\n",
    "    n=len(data)\n",
    "    total=0\n",
    "    for i in data:\n",
    "        total+=int(i)\n",
    "    mean=total/n\n",
    "    return mean\n",
    "#squaring and getting values\n",
    "squared_list=[]\n",
    "for number in data:\n",
    "    a=int(number)-mean(data)\n",
    "    a = a**2\n",
    "    squared_list.append(a)\n",
    "#getting the sum\n",
    "sum=0\n",
    "for x in squared_list:\n",
    "    sum=sum+x\n",
    "#diviying sum by total value\n",
    "result=sum/(len(data)-1)\n",
    "#getting the deviation by takin the sqrt of result\n",
    "std_deviation=math.sqrt(result)\n",
    "print(std_deviation)"
   ]
  },
  {
   "cell_type": "code",
   "execution_count": null,
   "metadata": {},
   "outputs": [],
   "source": []
  }
 ],
 "metadata": {
  "kernelspec": {
   "display_name": "Python 3",
   "language": "python",
   "name": "python3"
  },
  "language_info": {
   "codemirror_mode": {
    "name": "ipython",
    "version": 3
   },
   "file_extension": ".py",
   "mimetype": "text/x-python",
   "name": "python",
   "nbconvert_exporter": "python",
   "pygments_lexer": "ipython3",
   "version": "3.8.3"
  }
 },
 "nbformat": 4,
 "nbformat_minor": 4
}
